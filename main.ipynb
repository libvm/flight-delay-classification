{
 "cells": [
  {
   "cell_type": "code",
   "id": "initial_id",
   "metadata": {
    "collapsed": true,
    "ExecuteTime": {
     "end_time": "2024-06-01T15:21:26.055822Z",
     "start_time": "2024-06-01T15:21:26.048336Z"
    }
   },
   "source": [
    "import pandas as pd\n",
    "import numpy as np\n",
    "import seaborn as sns\n",
    "from matplotlib import pyplot as plt"
   ],
   "outputs": [],
   "execution_count": 1
  },
  {
   "metadata": {
    "ExecuteTime": {
     "end_time": "2024-06-01T15:21:33.438352Z",
     "start_time": "2024-06-01T15:21:26.063618Z"
    }
   },
   "cell_type": "code",
   "source": [
    "df_2019 = pd.read_csv(r'Jan_2019_ontime.csv')\n",
    "df_2020 = pd.read_csv(r'Jan_2020_ontime.csv')"
   ],
   "id": "eaac7f49b558ff25",
   "outputs": [],
   "execution_count": 2
  },
  {
   "metadata": {
    "ExecuteTime": {
     "end_time": "2024-06-01T15:21:33.449676Z",
     "start_time": "2024-06-01T15:21:33.441710Z"
    }
   },
   "cell_type": "code",
   "source": "print(set(df_2020.columns) == set(df_2019.columns))",
   "id": "f9aa0a64edd27011",
   "outputs": [
    {
     "name": "stdout",
     "output_type": "stream",
     "text": [
      "True\n"
     ]
    }
   ],
   "execution_count": 3
  },
  {
   "metadata": {
    "ExecuteTime": {
     "end_time": "2024-06-01T15:21:33.522487Z",
     "start_time": "2024-06-01T15:21:33.453377Z"
    }
   },
   "cell_type": "code",
   "source": "df_2019.head()",
   "id": "5b1de0ef69480e0",
   "outputs": [
    {
     "data": {
      "text/plain": [
       "   DAY_OF_MONTH  DAY_OF_WEEK OP_UNIQUE_CARRIER  OP_CARRIER_AIRLINE_ID  \\\n",
       "0             1            2                9E                  20363   \n",
       "1             1            2                9E                  20363   \n",
       "2             1            2                9E                  20363   \n",
       "3             1            2                9E                  20363   \n",
       "4             1            2                9E                  20363   \n",
       "\n",
       "  OP_CARRIER TAIL_NUM  OP_CARRIER_FL_NUM  ORIGIN_AIRPORT_ID  \\\n",
       "0         9E   N8688C               3280              11953   \n",
       "1         9E   N348PQ               3281              13487   \n",
       "2         9E   N8896A               3282              11433   \n",
       "3         9E   N8886A               3283              15249   \n",
       "4         9E   N8974C               3284              10397   \n",
       "\n",
       "   ORIGIN_AIRPORT_SEQ_ID ORIGIN  ...  DEST  DEP_TIME DEP_DEL15  DEP_TIME_BLK  \\\n",
       "0                1195302    GNV  ...   ATL     601.0       0.0     0600-0659   \n",
       "1                1348702    MSP  ...   CVG    1359.0       0.0     1400-1459   \n",
       "2                1143302    DTW  ...   CVG    1215.0       0.0     1200-1259   \n",
       "3                1524906    TLH  ...   ATL    1521.0       0.0     1500-1559   \n",
       "4                1039707    ATL  ...   FSM    1847.0       0.0     1900-1959   \n",
       "\n",
       "   ARR_TIME ARR_DEL15  CANCELLED  DIVERTED  DISTANCE  Unnamed: 21  \n",
       "0     722.0       0.0        0.0       0.0     300.0          NaN  \n",
       "1    1633.0       0.0        0.0       0.0     596.0          NaN  \n",
       "2    1329.0       0.0        0.0       0.0     229.0          NaN  \n",
       "3    1625.0       0.0        0.0       0.0     223.0          NaN  \n",
       "4    1940.0       0.0        0.0       0.0     579.0          NaN  \n",
       "\n",
       "[5 rows x 22 columns]"
      ],
      "text/html": [
       "<div>\n",
       "<style scoped>\n",
       "    .dataframe tbody tr th:only-of-type {\n",
       "        vertical-align: middle;\n",
       "    }\n",
       "\n",
       "    .dataframe tbody tr th {\n",
       "        vertical-align: top;\n",
       "    }\n",
       "\n",
       "    .dataframe thead th {\n",
       "        text-align: right;\n",
       "    }\n",
       "</style>\n",
       "<table border=\"1\" class=\"dataframe\">\n",
       "  <thead>\n",
       "    <tr style=\"text-align: right;\">\n",
       "      <th></th>\n",
       "      <th>DAY_OF_MONTH</th>\n",
       "      <th>DAY_OF_WEEK</th>\n",
       "      <th>OP_UNIQUE_CARRIER</th>\n",
       "      <th>OP_CARRIER_AIRLINE_ID</th>\n",
       "      <th>OP_CARRIER</th>\n",
       "      <th>TAIL_NUM</th>\n",
       "      <th>OP_CARRIER_FL_NUM</th>\n",
       "      <th>ORIGIN_AIRPORT_ID</th>\n",
       "      <th>ORIGIN_AIRPORT_SEQ_ID</th>\n",
       "      <th>ORIGIN</th>\n",
       "      <th>...</th>\n",
       "      <th>DEST</th>\n",
       "      <th>DEP_TIME</th>\n",
       "      <th>DEP_DEL15</th>\n",
       "      <th>DEP_TIME_BLK</th>\n",
       "      <th>ARR_TIME</th>\n",
       "      <th>ARR_DEL15</th>\n",
       "      <th>CANCELLED</th>\n",
       "      <th>DIVERTED</th>\n",
       "      <th>DISTANCE</th>\n",
       "      <th>Unnamed: 21</th>\n",
       "    </tr>\n",
       "  </thead>\n",
       "  <tbody>\n",
       "    <tr>\n",
       "      <th>0</th>\n",
       "      <td>1</td>\n",
       "      <td>2</td>\n",
       "      <td>9E</td>\n",
       "      <td>20363</td>\n",
       "      <td>9E</td>\n",
       "      <td>N8688C</td>\n",
       "      <td>3280</td>\n",
       "      <td>11953</td>\n",
       "      <td>1195302</td>\n",
       "      <td>GNV</td>\n",
       "      <td>...</td>\n",
       "      <td>ATL</td>\n",
       "      <td>601.0</td>\n",
       "      <td>0.0</td>\n",
       "      <td>0600-0659</td>\n",
       "      <td>722.0</td>\n",
       "      <td>0.0</td>\n",
       "      <td>0.0</td>\n",
       "      <td>0.0</td>\n",
       "      <td>300.0</td>\n",
       "      <td>NaN</td>\n",
       "    </tr>\n",
       "    <tr>\n",
       "      <th>1</th>\n",
       "      <td>1</td>\n",
       "      <td>2</td>\n",
       "      <td>9E</td>\n",
       "      <td>20363</td>\n",
       "      <td>9E</td>\n",
       "      <td>N348PQ</td>\n",
       "      <td>3281</td>\n",
       "      <td>13487</td>\n",
       "      <td>1348702</td>\n",
       "      <td>MSP</td>\n",
       "      <td>...</td>\n",
       "      <td>CVG</td>\n",
       "      <td>1359.0</td>\n",
       "      <td>0.0</td>\n",
       "      <td>1400-1459</td>\n",
       "      <td>1633.0</td>\n",
       "      <td>0.0</td>\n",
       "      <td>0.0</td>\n",
       "      <td>0.0</td>\n",
       "      <td>596.0</td>\n",
       "      <td>NaN</td>\n",
       "    </tr>\n",
       "    <tr>\n",
       "      <th>2</th>\n",
       "      <td>1</td>\n",
       "      <td>2</td>\n",
       "      <td>9E</td>\n",
       "      <td>20363</td>\n",
       "      <td>9E</td>\n",
       "      <td>N8896A</td>\n",
       "      <td>3282</td>\n",
       "      <td>11433</td>\n",
       "      <td>1143302</td>\n",
       "      <td>DTW</td>\n",
       "      <td>...</td>\n",
       "      <td>CVG</td>\n",
       "      <td>1215.0</td>\n",
       "      <td>0.0</td>\n",
       "      <td>1200-1259</td>\n",
       "      <td>1329.0</td>\n",
       "      <td>0.0</td>\n",
       "      <td>0.0</td>\n",
       "      <td>0.0</td>\n",
       "      <td>229.0</td>\n",
       "      <td>NaN</td>\n",
       "    </tr>\n",
       "    <tr>\n",
       "      <th>3</th>\n",
       "      <td>1</td>\n",
       "      <td>2</td>\n",
       "      <td>9E</td>\n",
       "      <td>20363</td>\n",
       "      <td>9E</td>\n",
       "      <td>N8886A</td>\n",
       "      <td>3283</td>\n",
       "      <td>15249</td>\n",
       "      <td>1524906</td>\n",
       "      <td>TLH</td>\n",
       "      <td>...</td>\n",
       "      <td>ATL</td>\n",
       "      <td>1521.0</td>\n",
       "      <td>0.0</td>\n",
       "      <td>1500-1559</td>\n",
       "      <td>1625.0</td>\n",
       "      <td>0.0</td>\n",
       "      <td>0.0</td>\n",
       "      <td>0.0</td>\n",
       "      <td>223.0</td>\n",
       "      <td>NaN</td>\n",
       "    </tr>\n",
       "    <tr>\n",
       "      <th>4</th>\n",
       "      <td>1</td>\n",
       "      <td>2</td>\n",
       "      <td>9E</td>\n",
       "      <td>20363</td>\n",
       "      <td>9E</td>\n",
       "      <td>N8974C</td>\n",
       "      <td>3284</td>\n",
       "      <td>10397</td>\n",
       "      <td>1039707</td>\n",
       "      <td>ATL</td>\n",
       "      <td>...</td>\n",
       "      <td>FSM</td>\n",
       "      <td>1847.0</td>\n",
       "      <td>0.0</td>\n",
       "      <td>1900-1959</td>\n",
       "      <td>1940.0</td>\n",
       "      <td>0.0</td>\n",
       "      <td>0.0</td>\n",
       "      <td>0.0</td>\n",
       "      <td>579.0</td>\n",
       "      <td>NaN</td>\n",
       "    </tr>\n",
       "  </tbody>\n",
       "</table>\n",
       "<p>5 rows × 22 columns</p>\n",
       "</div>"
      ]
     },
     "execution_count": 4,
     "metadata": {},
     "output_type": "execute_result"
    }
   ],
   "execution_count": 4
  },
  {
   "metadata": {
    "ExecuteTime": {
     "end_time": "2024-06-01T15:21:34.214865Z",
     "start_time": "2024-06-01T15:21:33.525887Z"
    }
   },
   "cell_type": "code",
   "source": "df_2019.describe()",
   "id": "b5cb76d7049f04da",
   "outputs": [
    {
     "data": {
      "text/plain": [
       "        DAY_OF_MONTH    DAY_OF_WEEK  OP_CARRIER_AIRLINE_ID  OP_CARRIER_FL_NUM  \\\n",
       "count  583985.000000  583985.000000          583985.000000      583985.000000   \n",
       "mean       15.960088       3.835626           19983.213168        2537.869334   \n",
       "std         8.987942       1.921899             377.724638        1821.736145   \n",
       "min         1.000000       1.000000           19393.000000           1.000000   \n",
       "25%         8.000000       2.000000           19790.000000         979.000000   \n",
       "50%        16.000000       4.000000           19977.000000        2114.000000   \n",
       "75%        24.000000       5.000000           20368.000000        3902.000000   \n",
       "max        31.000000       7.000000           20452.000000        7439.000000   \n",
       "\n",
       "       ORIGIN_AIRPORT_ID  ORIGIN_AIRPORT_SEQ_ID  DEST_AIRPORT_ID  \\\n",
       "count      583985.000000           5.839850e+05    583985.000000   \n",
       "mean        12659.701982           1.265974e+06     12659.470015   \n",
       "std          1519.405493           1.519403e+05      1519.336466   \n",
       "min         10135.000000           1.013505e+06     10135.000000   \n",
       "25%         11292.000000           1.129202e+06     11292.000000   \n",
       "50%         12889.000000           1.288903e+06     12889.000000   \n",
       "75%         13931.000000           1.393102e+06     13931.000000   \n",
       "max         16218.000000           1.621802e+06     16218.000000   \n",
       "\n",
       "       DEST_AIRPORT_SEQ_ID       DEP_TIME      DEP_DEL15       ARR_TIME  \\\n",
       "count         5.839850e+05  567633.000000  567630.000000  566924.000000   \n",
       "mean          1.265951e+06    1331.957814       0.174281    1484.315921   \n",
       "std           1.519334e+05     495.404020       0.379351     523.162855   \n",
       "min           1.013505e+06       1.000000       0.000000       1.000000   \n",
       "25%           1.129202e+06     921.000000       0.000000    1104.000000   \n",
       "50%           1.288903e+06    1328.000000       0.000000    1517.000000   \n",
       "75%           1.393102e+06    1738.000000       0.000000    1919.000000   \n",
       "max           1.621802e+06    2400.000000       1.000000    2400.000000   \n",
       "\n",
       "           ARR_DEL15      CANCELLED       DIVERTED       DISTANCE  Unnamed: 21  \n",
       "count  565963.000000  583985.000000  583985.000000  583985.000000          0.0  \n",
       "mean        0.185917       0.028641       0.002219     797.742767          NaN  \n",
       "std         0.389040       0.166796       0.047056     589.999261          NaN  \n",
       "min         0.000000       0.000000       0.000000      31.000000          NaN  \n",
       "25%         0.000000       0.000000       0.000000     363.000000          NaN  \n",
       "50%         0.000000       0.000000       0.000000     640.000000          NaN  \n",
       "75%         0.000000       0.000000       0.000000    1037.000000          NaN  \n",
       "max         1.000000       1.000000       1.000000    4983.000000          NaN  "
      ],
      "text/html": [
       "<div>\n",
       "<style scoped>\n",
       "    .dataframe tbody tr th:only-of-type {\n",
       "        vertical-align: middle;\n",
       "    }\n",
       "\n",
       "    .dataframe tbody tr th {\n",
       "        vertical-align: top;\n",
       "    }\n",
       "\n",
       "    .dataframe thead th {\n",
       "        text-align: right;\n",
       "    }\n",
       "</style>\n",
       "<table border=\"1\" class=\"dataframe\">\n",
       "  <thead>\n",
       "    <tr style=\"text-align: right;\">\n",
       "      <th></th>\n",
       "      <th>DAY_OF_MONTH</th>\n",
       "      <th>DAY_OF_WEEK</th>\n",
       "      <th>OP_CARRIER_AIRLINE_ID</th>\n",
       "      <th>OP_CARRIER_FL_NUM</th>\n",
       "      <th>ORIGIN_AIRPORT_ID</th>\n",
       "      <th>ORIGIN_AIRPORT_SEQ_ID</th>\n",
       "      <th>DEST_AIRPORT_ID</th>\n",
       "      <th>DEST_AIRPORT_SEQ_ID</th>\n",
       "      <th>DEP_TIME</th>\n",
       "      <th>DEP_DEL15</th>\n",
       "      <th>ARR_TIME</th>\n",
       "      <th>ARR_DEL15</th>\n",
       "      <th>CANCELLED</th>\n",
       "      <th>DIVERTED</th>\n",
       "      <th>DISTANCE</th>\n",
       "      <th>Unnamed: 21</th>\n",
       "    </tr>\n",
       "  </thead>\n",
       "  <tbody>\n",
       "    <tr>\n",
       "      <th>count</th>\n",
       "      <td>583985.000000</td>\n",
       "      <td>583985.000000</td>\n",
       "      <td>583985.000000</td>\n",
       "      <td>583985.000000</td>\n",
       "      <td>583985.000000</td>\n",
       "      <td>5.839850e+05</td>\n",
       "      <td>583985.000000</td>\n",
       "      <td>5.839850e+05</td>\n",
       "      <td>567633.000000</td>\n",
       "      <td>567630.000000</td>\n",
       "      <td>566924.000000</td>\n",
       "      <td>565963.000000</td>\n",
       "      <td>583985.000000</td>\n",
       "      <td>583985.000000</td>\n",
       "      <td>583985.000000</td>\n",
       "      <td>0.0</td>\n",
       "    </tr>\n",
       "    <tr>\n",
       "      <th>mean</th>\n",
       "      <td>15.960088</td>\n",
       "      <td>3.835626</td>\n",
       "      <td>19983.213168</td>\n",
       "      <td>2537.869334</td>\n",
       "      <td>12659.701982</td>\n",
       "      <td>1.265974e+06</td>\n",
       "      <td>12659.470015</td>\n",
       "      <td>1.265951e+06</td>\n",
       "      <td>1331.957814</td>\n",
       "      <td>0.174281</td>\n",
       "      <td>1484.315921</td>\n",
       "      <td>0.185917</td>\n",
       "      <td>0.028641</td>\n",
       "      <td>0.002219</td>\n",
       "      <td>797.742767</td>\n",
       "      <td>NaN</td>\n",
       "    </tr>\n",
       "    <tr>\n",
       "      <th>std</th>\n",
       "      <td>8.987942</td>\n",
       "      <td>1.921899</td>\n",
       "      <td>377.724638</td>\n",
       "      <td>1821.736145</td>\n",
       "      <td>1519.405493</td>\n",
       "      <td>1.519403e+05</td>\n",
       "      <td>1519.336466</td>\n",
       "      <td>1.519334e+05</td>\n",
       "      <td>495.404020</td>\n",
       "      <td>0.379351</td>\n",
       "      <td>523.162855</td>\n",
       "      <td>0.389040</td>\n",
       "      <td>0.166796</td>\n",
       "      <td>0.047056</td>\n",
       "      <td>589.999261</td>\n",
       "      <td>NaN</td>\n",
       "    </tr>\n",
       "    <tr>\n",
       "      <th>min</th>\n",
       "      <td>1.000000</td>\n",
       "      <td>1.000000</td>\n",
       "      <td>19393.000000</td>\n",
       "      <td>1.000000</td>\n",
       "      <td>10135.000000</td>\n",
       "      <td>1.013505e+06</td>\n",
       "      <td>10135.000000</td>\n",
       "      <td>1.013505e+06</td>\n",
       "      <td>1.000000</td>\n",
       "      <td>0.000000</td>\n",
       "      <td>1.000000</td>\n",
       "      <td>0.000000</td>\n",
       "      <td>0.000000</td>\n",
       "      <td>0.000000</td>\n",
       "      <td>31.000000</td>\n",
       "      <td>NaN</td>\n",
       "    </tr>\n",
       "    <tr>\n",
       "      <th>25%</th>\n",
       "      <td>8.000000</td>\n",
       "      <td>2.000000</td>\n",
       "      <td>19790.000000</td>\n",
       "      <td>979.000000</td>\n",
       "      <td>11292.000000</td>\n",
       "      <td>1.129202e+06</td>\n",
       "      <td>11292.000000</td>\n",
       "      <td>1.129202e+06</td>\n",
       "      <td>921.000000</td>\n",
       "      <td>0.000000</td>\n",
       "      <td>1104.000000</td>\n",
       "      <td>0.000000</td>\n",
       "      <td>0.000000</td>\n",
       "      <td>0.000000</td>\n",
       "      <td>363.000000</td>\n",
       "      <td>NaN</td>\n",
       "    </tr>\n",
       "    <tr>\n",
       "      <th>50%</th>\n",
       "      <td>16.000000</td>\n",
       "      <td>4.000000</td>\n",
       "      <td>19977.000000</td>\n",
       "      <td>2114.000000</td>\n",
       "      <td>12889.000000</td>\n",
       "      <td>1.288903e+06</td>\n",
       "      <td>12889.000000</td>\n",
       "      <td>1.288903e+06</td>\n",
       "      <td>1328.000000</td>\n",
       "      <td>0.000000</td>\n",
       "      <td>1517.000000</td>\n",
       "      <td>0.000000</td>\n",
       "      <td>0.000000</td>\n",
       "      <td>0.000000</td>\n",
       "      <td>640.000000</td>\n",
       "      <td>NaN</td>\n",
       "    </tr>\n",
       "    <tr>\n",
       "      <th>75%</th>\n",
       "      <td>24.000000</td>\n",
       "      <td>5.000000</td>\n",
       "      <td>20368.000000</td>\n",
       "      <td>3902.000000</td>\n",
       "      <td>13931.000000</td>\n",
       "      <td>1.393102e+06</td>\n",
       "      <td>13931.000000</td>\n",
       "      <td>1.393102e+06</td>\n",
       "      <td>1738.000000</td>\n",
       "      <td>0.000000</td>\n",
       "      <td>1919.000000</td>\n",
       "      <td>0.000000</td>\n",
       "      <td>0.000000</td>\n",
       "      <td>0.000000</td>\n",
       "      <td>1037.000000</td>\n",
       "      <td>NaN</td>\n",
       "    </tr>\n",
       "    <tr>\n",
       "      <th>max</th>\n",
       "      <td>31.000000</td>\n",
       "      <td>7.000000</td>\n",
       "      <td>20452.000000</td>\n",
       "      <td>7439.000000</td>\n",
       "      <td>16218.000000</td>\n",
       "      <td>1.621802e+06</td>\n",
       "      <td>16218.000000</td>\n",
       "      <td>1.621802e+06</td>\n",
       "      <td>2400.000000</td>\n",
       "      <td>1.000000</td>\n",
       "      <td>2400.000000</td>\n",
       "      <td>1.000000</td>\n",
       "      <td>1.000000</td>\n",
       "      <td>1.000000</td>\n",
       "      <td>4983.000000</td>\n",
       "      <td>NaN</td>\n",
       "    </tr>\n",
       "  </tbody>\n",
       "</table>\n",
       "</div>"
      ]
     },
     "execution_count": 5,
     "metadata": {},
     "output_type": "execute_result"
    }
   ],
   "execution_count": 5
  },
  {
   "metadata": {
    "ExecuteTime": {
     "end_time": "2024-06-01T15:21:35.252194Z",
     "start_time": "2024-06-01T15:21:34.218030Z"
    }
   },
   "cell_type": "code",
   "source": [
    "pd.DataFrame({'unique':df_2019.nunique(),\n",
    "              'missing': df_2019.isna().sum()/df_2019.count(),\n",
    "              'type':df_2019.dtypes})"
   ],
   "id": "90ae59b061ec0abe",
   "outputs": [
    {
     "data": {
      "text/plain": [
       "                       unique   missing     type\n",
       "DAY_OF_MONTH               31  0.000000    int64\n",
       "DAY_OF_WEEK                 7  0.000000    int64\n",
       "OP_UNIQUE_CARRIER          17  0.000000   object\n",
       "OP_CARRIER_AIRLINE_ID      17  0.000000    int64\n",
       "OP_CARRIER                 17  0.000000   object\n",
       "TAIL_NUM                 5446  0.004374   object\n",
       "OP_CARRIER_FL_NUM        6839  0.000000    int64\n",
       "ORIGIN_AIRPORT_ID         346  0.000000    int64\n",
       "ORIGIN_AIRPORT_SEQ_ID     346  0.000000    int64\n",
       "ORIGIN                    346  0.000000   object\n",
       "DEST_AIRPORT_ID           346  0.000000    int64\n",
       "DEST_AIRPORT_SEQ_ID       346  0.000000    int64\n",
       "DEST                      346  0.000000   object\n",
       "DEP_TIME                 1438  0.028807  float64\n",
       "DEP_DEL15                   2  0.028813  float64\n",
       "DEP_TIME_BLK               19  0.000000   object\n",
       "ARR_TIME                 1440  0.030094  float64\n",
       "ARR_DEL15                   2  0.031843  float64\n",
       "CANCELLED                   2  0.000000  float64\n",
       "DIVERTED                    2  0.000000  float64\n",
       "DISTANCE                 1451  0.000000  float64\n",
       "Unnamed: 21                 0       inf  float64"
      ],
      "text/html": [
       "<div>\n",
       "<style scoped>\n",
       "    .dataframe tbody tr th:only-of-type {\n",
       "        vertical-align: middle;\n",
       "    }\n",
       "\n",
       "    .dataframe tbody tr th {\n",
       "        vertical-align: top;\n",
       "    }\n",
       "\n",
       "    .dataframe thead th {\n",
       "        text-align: right;\n",
       "    }\n",
       "</style>\n",
       "<table border=\"1\" class=\"dataframe\">\n",
       "  <thead>\n",
       "    <tr style=\"text-align: right;\">\n",
       "      <th></th>\n",
       "      <th>unique</th>\n",
       "      <th>missing</th>\n",
       "      <th>type</th>\n",
       "    </tr>\n",
       "  </thead>\n",
       "  <tbody>\n",
       "    <tr>\n",
       "      <th>DAY_OF_MONTH</th>\n",
       "      <td>31</td>\n",
       "      <td>0.000000</td>\n",
       "      <td>int64</td>\n",
       "    </tr>\n",
       "    <tr>\n",
       "      <th>DAY_OF_WEEK</th>\n",
       "      <td>7</td>\n",
       "      <td>0.000000</td>\n",
       "      <td>int64</td>\n",
       "    </tr>\n",
       "    <tr>\n",
       "      <th>OP_UNIQUE_CARRIER</th>\n",
       "      <td>17</td>\n",
       "      <td>0.000000</td>\n",
       "      <td>object</td>\n",
       "    </tr>\n",
       "    <tr>\n",
       "      <th>OP_CARRIER_AIRLINE_ID</th>\n",
       "      <td>17</td>\n",
       "      <td>0.000000</td>\n",
       "      <td>int64</td>\n",
       "    </tr>\n",
       "    <tr>\n",
       "      <th>OP_CARRIER</th>\n",
       "      <td>17</td>\n",
       "      <td>0.000000</td>\n",
       "      <td>object</td>\n",
       "    </tr>\n",
       "    <tr>\n",
       "      <th>TAIL_NUM</th>\n",
       "      <td>5446</td>\n",
       "      <td>0.004374</td>\n",
       "      <td>object</td>\n",
       "    </tr>\n",
       "    <tr>\n",
       "      <th>OP_CARRIER_FL_NUM</th>\n",
       "      <td>6839</td>\n",
       "      <td>0.000000</td>\n",
       "      <td>int64</td>\n",
       "    </tr>\n",
       "    <tr>\n",
       "      <th>ORIGIN_AIRPORT_ID</th>\n",
       "      <td>346</td>\n",
       "      <td>0.000000</td>\n",
       "      <td>int64</td>\n",
       "    </tr>\n",
       "    <tr>\n",
       "      <th>ORIGIN_AIRPORT_SEQ_ID</th>\n",
       "      <td>346</td>\n",
       "      <td>0.000000</td>\n",
       "      <td>int64</td>\n",
       "    </tr>\n",
       "    <tr>\n",
       "      <th>ORIGIN</th>\n",
       "      <td>346</td>\n",
       "      <td>0.000000</td>\n",
       "      <td>object</td>\n",
       "    </tr>\n",
       "    <tr>\n",
       "      <th>DEST_AIRPORT_ID</th>\n",
       "      <td>346</td>\n",
       "      <td>0.000000</td>\n",
       "      <td>int64</td>\n",
       "    </tr>\n",
       "    <tr>\n",
       "      <th>DEST_AIRPORT_SEQ_ID</th>\n",
       "      <td>346</td>\n",
       "      <td>0.000000</td>\n",
       "      <td>int64</td>\n",
       "    </tr>\n",
       "    <tr>\n",
       "      <th>DEST</th>\n",
       "      <td>346</td>\n",
       "      <td>0.000000</td>\n",
       "      <td>object</td>\n",
       "    </tr>\n",
       "    <tr>\n",
       "      <th>DEP_TIME</th>\n",
       "      <td>1438</td>\n",
       "      <td>0.028807</td>\n",
       "      <td>float64</td>\n",
       "    </tr>\n",
       "    <tr>\n",
       "      <th>DEP_DEL15</th>\n",
       "      <td>2</td>\n",
       "      <td>0.028813</td>\n",
       "      <td>float64</td>\n",
       "    </tr>\n",
       "    <tr>\n",
       "      <th>DEP_TIME_BLK</th>\n",
       "      <td>19</td>\n",
       "      <td>0.000000</td>\n",
       "      <td>object</td>\n",
       "    </tr>\n",
       "    <tr>\n",
       "      <th>ARR_TIME</th>\n",
       "      <td>1440</td>\n",
       "      <td>0.030094</td>\n",
       "      <td>float64</td>\n",
       "    </tr>\n",
       "    <tr>\n",
       "      <th>ARR_DEL15</th>\n",
       "      <td>2</td>\n",
       "      <td>0.031843</td>\n",
       "      <td>float64</td>\n",
       "    </tr>\n",
       "    <tr>\n",
       "      <th>CANCELLED</th>\n",
       "      <td>2</td>\n",
       "      <td>0.000000</td>\n",
       "      <td>float64</td>\n",
       "    </tr>\n",
       "    <tr>\n",
       "      <th>DIVERTED</th>\n",
       "      <td>2</td>\n",
       "      <td>0.000000</td>\n",
       "      <td>float64</td>\n",
       "    </tr>\n",
       "    <tr>\n",
       "      <th>DISTANCE</th>\n",
       "      <td>1451</td>\n",
       "      <td>0.000000</td>\n",
       "      <td>float64</td>\n",
       "    </tr>\n",
       "    <tr>\n",
       "      <th>Unnamed: 21</th>\n",
       "      <td>0</td>\n",
       "      <td>inf</td>\n",
       "      <td>float64</td>\n",
       "    </tr>\n",
       "  </tbody>\n",
       "</table>\n",
       "</div>"
      ]
     },
     "execution_count": 6,
     "metadata": {},
     "output_type": "execute_result"
    }
   ],
   "execution_count": 6
  },
  {
   "metadata": {
    "ExecuteTime": {
     "end_time": "2024-06-01T15:21:36.377309Z",
     "start_time": "2024-06-01T15:21:35.259745Z"
    }
   },
   "cell_type": "code",
   "source": [
    "pd.DataFrame({'unique':df_2020.nunique(),\n",
    "              'missing': df_2020.isna().sum()/df_2020.count(),\n",
    "              'type':df_2020.dtypes})"
   ],
   "id": "f3addd980c45e833",
   "outputs": [
    {
     "data": {
      "text/plain": [
       "                       unique   missing     type\n",
       "DAY_OF_MONTH               31  0.000000    int64\n",
       "DAY_OF_WEEK                 7  0.000000    int64\n",
       "OP_UNIQUE_CARRIER          17  0.000000   object\n",
       "OP_CARRIER_AIRLINE_ID      17  0.000000    int64\n",
       "OP_CARRIER                 17  0.000000   object\n",
       "TAIL_NUM                 5444  0.001151   object\n",
       "OP_CARRIER_FL_NUM        6720  0.000000    int64\n",
       "ORIGIN_AIRPORT_ID         351  0.000000    int64\n",
       "ORIGIN_AIRPORT_SEQ_ID     351  0.000000    int64\n",
       "ORIGIN                    351  0.000000   object\n",
       "DEST_AIRPORT_ID           350  0.000000    int64\n",
       "DEST_AIRPORT_SEQ_ID       350  0.000000    int64\n",
       "DEST                      350  0.000000   object\n",
       "DEP_TIME                 1432  0.011094  float64\n",
       "DEP_DEL15                   2  0.011153  float64\n",
       "DEP_TIME_BLK               19  0.000000   object\n",
       "ARR_TIME                 1440  0.011786  float64\n",
       "ARR_DEL15                   2  0.013480  float64\n",
       "CANCELLED                   2  0.000000  float64\n",
       "DIVERTED                    2  0.000000  float64\n",
       "DISTANCE                 1471  0.000000  float64\n",
       "Unnamed: 21                 0       inf  float64"
      ],
      "text/html": [
       "<div>\n",
       "<style scoped>\n",
       "    .dataframe tbody tr th:only-of-type {\n",
       "        vertical-align: middle;\n",
       "    }\n",
       "\n",
       "    .dataframe tbody tr th {\n",
       "        vertical-align: top;\n",
       "    }\n",
       "\n",
       "    .dataframe thead th {\n",
       "        text-align: right;\n",
       "    }\n",
       "</style>\n",
       "<table border=\"1\" class=\"dataframe\">\n",
       "  <thead>\n",
       "    <tr style=\"text-align: right;\">\n",
       "      <th></th>\n",
       "      <th>unique</th>\n",
       "      <th>missing</th>\n",
       "      <th>type</th>\n",
       "    </tr>\n",
       "  </thead>\n",
       "  <tbody>\n",
       "    <tr>\n",
       "      <th>DAY_OF_MONTH</th>\n",
       "      <td>31</td>\n",
       "      <td>0.000000</td>\n",
       "      <td>int64</td>\n",
       "    </tr>\n",
       "    <tr>\n",
       "      <th>DAY_OF_WEEK</th>\n",
       "      <td>7</td>\n",
       "      <td>0.000000</td>\n",
       "      <td>int64</td>\n",
       "    </tr>\n",
       "    <tr>\n",
       "      <th>OP_UNIQUE_CARRIER</th>\n",
       "      <td>17</td>\n",
       "      <td>0.000000</td>\n",
       "      <td>object</td>\n",
       "    </tr>\n",
       "    <tr>\n",
       "      <th>OP_CARRIER_AIRLINE_ID</th>\n",
       "      <td>17</td>\n",
       "      <td>0.000000</td>\n",
       "      <td>int64</td>\n",
       "    </tr>\n",
       "    <tr>\n",
       "      <th>OP_CARRIER</th>\n",
       "      <td>17</td>\n",
       "      <td>0.000000</td>\n",
       "      <td>object</td>\n",
       "    </tr>\n",
       "    <tr>\n",
       "      <th>TAIL_NUM</th>\n",
       "      <td>5444</td>\n",
       "      <td>0.001151</td>\n",
       "      <td>object</td>\n",
       "    </tr>\n",
       "    <tr>\n",
       "      <th>OP_CARRIER_FL_NUM</th>\n",
       "      <td>6720</td>\n",
       "      <td>0.000000</td>\n",
       "      <td>int64</td>\n",
       "    </tr>\n",
       "    <tr>\n",
       "      <th>ORIGIN_AIRPORT_ID</th>\n",
       "      <td>351</td>\n",
       "      <td>0.000000</td>\n",
       "      <td>int64</td>\n",
       "    </tr>\n",
       "    <tr>\n",
       "      <th>ORIGIN_AIRPORT_SEQ_ID</th>\n",
       "      <td>351</td>\n",
       "      <td>0.000000</td>\n",
       "      <td>int64</td>\n",
       "    </tr>\n",
       "    <tr>\n",
       "      <th>ORIGIN</th>\n",
       "      <td>351</td>\n",
       "      <td>0.000000</td>\n",
       "      <td>object</td>\n",
       "    </tr>\n",
       "    <tr>\n",
       "      <th>DEST_AIRPORT_ID</th>\n",
       "      <td>350</td>\n",
       "      <td>0.000000</td>\n",
       "      <td>int64</td>\n",
       "    </tr>\n",
       "    <tr>\n",
       "      <th>DEST_AIRPORT_SEQ_ID</th>\n",
       "      <td>350</td>\n",
       "      <td>0.000000</td>\n",
       "      <td>int64</td>\n",
       "    </tr>\n",
       "    <tr>\n",
       "      <th>DEST</th>\n",
       "      <td>350</td>\n",
       "      <td>0.000000</td>\n",
       "      <td>object</td>\n",
       "    </tr>\n",
       "    <tr>\n",
       "      <th>DEP_TIME</th>\n",
       "      <td>1432</td>\n",
       "      <td>0.011094</td>\n",
       "      <td>float64</td>\n",
       "    </tr>\n",
       "    <tr>\n",
       "      <th>DEP_DEL15</th>\n",
       "      <td>2</td>\n",
       "      <td>0.011153</td>\n",
       "      <td>float64</td>\n",
       "    </tr>\n",
       "    <tr>\n",
       "      <th>DEP_TIME_BLK</th>\n",
       "      <td>19</td>\n",
       "      <td>0.000000</td>\n",
       "      <td>object</td>\n",
       "    </tr>\n",
       "    <tr>\n",
       "      <th>ARR_TIME</th>\n",
       "      <td>1440</td>\n",
       "      <td>0.011786</td>\n",
       "      <td>float64</td>\n",
       "    </tr>\n",
       "    <tr>\n",
       "      <th>ARR_DEL15</th>\n",
       "      <td>2</td>\n",
       "      <td>0.013480</td>\n",
       "      <td>float64</td>\n",
       "    </tr>\n",
       "    <tr>\n",
       "      <th>CANCELLED</th>\n",
       "      <td>2</td>\n",
       "      <td>0.000000</td>\n",
       "      <td>float64</td>\n",
       "    </tr>\n",
       "    <tr>\n",
       "      <th>DIVERTED</th>\n",
       "      <td>2</td>\n",
       "      <td>0.000000</td>\n",
       "      <td>float64</td>\n",
       "    </tr>\n",
       "    <tr>\n",
       "      <th>DISTANCE</th>\n",
       "      <td>1471</td>\n",
       "      <td>0.000000</td>\n",
       "      <td>float64</td>\n",
       "    </tr>\n",
       "    <tr>\n",
       "      <th>Unnamed: 21</th>\n",
       "      <td>0</td>\n",
       "      <td>inf</td>\n",
       "      <td>float64</td>\n",
       "    </tr>\n",
       "  </tbody>\n",
       "</table>\n",
       "</div>"
      ]
     },
     "execution_count": 7,
     "metadata": {},
     "output_type": "execute_result"
    }
   ],
   "execution_count": 7
  },
  {
   "metadata": {
    "ExecuteTime": {
     "end_time": "2024-06-01T15:21:36.433730Z",
     "start_time": "2024-06-01T15:21:36.380851Z"
    }
   },
   "cell_type": "code",
   "source": "df_2019.drop(['Unnamed: 21', 'OP_UNIQUE_CARRIER', 'OP_CARRIER_AIRLINE_ID', 'ORIGIN_AIRPORT_SEQ_ID', 'ORIGIN_AIRPORT_ID', 'DEST_AIRPORT_SEQ_ID', 'DEST_AIRPORT_ID', 'DEP_TIME', 'ARR_TIME', 'OP_CARRIER_FL_NUM'], axis = 1, inplace=True)",
   "id": "126f6136ef0bba44",
   "outputs": [],
   "execution_count": 8
  },
  {
   "metadata": {
    "ExecuteTime": {
     "end_time": "2024-06-01T15:21:36.531420Z",
     "start_time": "2024-06-01T15:21:36.437021Z"
    }
   },
   "cell_type": "code",
   "source": "df_2020.drop(['Unnamed: 21', 'OP_UNIQUE_CARRIER', 'OP_CARRIER_AIRLINE_ID', 'ORIGIN_AIRPORT_SEQ_ID', 'ORIGIN_AIRPORT_ID', 'DEST_AIRPORT_SEQ_ID', 'DEST_AIRPORT_ID', 'DEP_TIME', 'ARR_TIME', 'OP_CARRIER_FL_NUM'], axis = 1, inplace=True)",
   "id": "f539900c0160e085",
   "outputs": [],
   "execution_count": 9
  },
  {
   "metadata": {
    "ExecuteTime": {
     "end_time": "2024-06-01T15:21:38.837809Z",
     "start_time": "2024-06-01T15:21:36.534730Z"
    }
   },
   "cell_type": "code",
   "source": "sns.countplot(df_2019, x='ARR_DEL15')",
   "id": "9785de53231dd01d",
   "outputs": [
    {
     "data": {
      "text/plain": [
       "<AxesSubplot:xlabel='ARR_DEL15', ylabel='count'>"
      ]
     },
     "execution_count": 10,
     "metadata": {},
     "output_type": "execute_result"
    },
    {
     "data": {
      "text/plain": [
       "<Figure size 640x480 with 1 Axes>"
      ],
      "image/png": "[encoded data removed]"
     },
     "metadata": {},
     "output_type": "display_data"
    }
   ],
   "execution_count": 10
  },
  {
   "metadata": {
    "ExecuteTime": {
     "end_time": "2024-06-01T15:21:41.179760Z",
     "start_time": "2024-06-01T15:21:38.841363Z"
    }
   },
   "cell_type": "code",
   "source": "sns.countplot(df_2020, x='ARR_DEL15')",
   "id": "765ad6fc9d30aa52",
   "outputs": [
    {
     "data": {
      "text/plain": [
       "<AxesSubplot:xlabel='ARR_DEL15', ylabel='count'>"
      ]
     },
     "execution_count": 11,
     "metadata": {},
     "output_type": "execute_result"
    },
    {
     "data": {
      "text/plain": [
       "<Figure size 640x480 with 1 Axes>"
      ],
      "image/png": "[encoded data removed]"
     },
     "metadata": {},
     "output_type": "display_data"
    }
   ],
   "execution_count": 11
  },
  {
   "metadata": {
    "ExecuteTime": {
     "end_time": "2024-06-01T15:21:44.135600Z",
     "start_time": "2024-06-01T15:21:41.182999Z"
    }
   },
   "cell_type": "code",
   "source": "sns.scatterplot(df_2019, y='ARR_DEL15', x='CANCELLED')",
   "id": "af5c3281e91f22f2",
   "outputs": [
    {
     "data": {
      "text/plain": [
       "<AxesSubplot:xlabel='CANCELLED', ylabel='ARR_DEL15'>"
      ]
     },
     "execution_count": 12,
     "metadata": {},
     "output_type": "execute_result"
    },
    {
     "data": {
      "text/plain": [
       "<Figure size 640x480 with 1 Axes>"
      ],
      "image/png": "[encoded data removed]"
     },
     "metadata": {},
     "output_type": "display_data"
    }
   ],
   "execution_count": 12
  },
  {
   "metadata": {
    "ExecuteTime": {
     "end_time": "2024-06-01T15:21:46.800489Z",
     "start_time": "2024-06-01T15:21:44.139255Z"
    }
   },
   "cell_type": "code",
   "source": "sns.scatterplot(df_2019, y='ARR_DEL15', x='DIVERTED')",
   "id": "273ed1d33dc23d76",
   "outputs": [
    {
     "data": {
      "text/plain": [
       "<AxesSubplot:xlabel='DIVERTED', ylabel='ARR_DEL15'>"
      ]
     },
     "execution_count": 13,
     "metadata": {},
     "output_type": "execute_result"
    },
    {
     "data": {
      "text/plain": [
       "<Figure size 640x480 with 1 Axes>"
      ],
      "image/png": "[encoded data removed]"
     },
     "metadata": {},
     "output_type": "display_data"
    }
   ],
   "execution_count": 13
  },
  {
   "metadata": {
    "ExecuteTime": {
     "end_time": "2024-06-01T15:21:49.637461Z",
     "start_time": "2024-06-01T15:21:46.804296Z"
    }
   },
   "cell_type": "code",
   "source": "sns.scatterplot(df_2019, y='DEP_DEL15', x='CANCELLED')",
   "id": "28e4d659cc521e8e",
   "outputs": [
    {
     "data": {
      "text/plain": [
       "<AxesSubplot:xlabel='CANCELLED', ylabel='DEP_DEL15'>"
      ]
     },
     "execution_count": 14,
     "metadata": {},
     "output_type": "execute_result"
    },
    {
     "data": {
      "text/plain": [
       "<Figure size 640x480 with 1 Axes>"
      ],
      "image/png": "[encoded data removed]"
     },
     "metadata": {},
     "output_type": "display_data"
    }
   ],
   "execution_count": 14
  },
  {
   "metadata": {
    "ExecuteTime": {
     "end_time": "2024-06-01T15:21:52.387826Z",
     "start_time": "2024-06-01T15:21:49.640975Z"
    }
   },
   "cell_type": "code",
   "source": "sns.scatterplot(df_2019, y='DEP_DEL15', x='DIVERTED')",
   "id": "d85f02cc4597cdee",
   "outputs": [
    {
     "data": {
      "text/plain": [
       "<AxesSubplot:xlabel='DIVERTED', ylabel='DEP_DEL15'>"
      ]
     },
     "execution_count": 15,
     "metadata": {},
     "output_type": "execute_result"
    },
    {
     "data": {
      "text/plain": [
       "<Figure size 640x480 with 1 Axes>"
      ],
      "image/png": "[encoded data removed]"
     },
     "metadata": {},
     "output_type": "display_data"
    }
   ],
   "execution_count": 15
  },
  {
   "metadata": {
    "ExecuteTime": {
     "end_time": "2024-06-01T15:21:52.411711Z",
     "start_time": "2024-06-01T15:21:52.390940Z"
    }
   },
   "cell_type": "code",
   "source": [
    "filtered_dep = df_2019[df_2019['CANCELLED']==1]\n",
    "count = filtered_dep[filtered_dep['DEP_DEL15'].isna()].shape[0]\n",
    "total = filtered_dep.shape[0]\n",
    "res = (count/total) * 100 \n",
    "res"
   ],
   "id": "9a56e482e8afccda",
   "outputs": [
    {
     "data": {
      "text/plain": [
       "97.78189644864284"
      ]
     },
     "execution_count": 16,
     "metadata": {},
     "output_type": "execute_result"
    }
   ],
   "execution_count": 16
  },
  {
   "metadata": {},
   "cell_type": "markdown",
   "source": "Отсюда видно, что в 97% случаев при отмене рейса у нас NaN в задержке в отправлении.",
   "id": "eaf91be05e079b3b"
  },
  {
   "metadata": {
    "ExecuteTime": {
     "end_time": "2024-06-01T15:21:52.439889Z",
     "start_time": "2024-06-01T15:21:52.415315Z"
    }
   },
   "cell_type": "code",
   "source": [
    "filtered_dep = df_2019[df_2019['CANCELLED']==1]\n",
    "count = filtered_dep[filtered_dep['ARR_DEL15'].isna()].shape[0]\n",
    "total = filtered_dep.shape[0]\n",
    "res = (count/total) * 100 \n",
    "res"
   ],
   "id": "76d865653e5f0d32",
   "outputs": [
    {
     "data": {
      "text/plain": [
       "100.0"
      ]
     },
     "execution_count": 17,
     "metadata": {},
     "output_type": "execute_result"
    }
   ],
   "execution_count": 17
  },
  {
   "metadata": {},
   "cell_type": "markdown",
   "source": "Отсюда видно, что в 100% случаев при отмене рейса у нас NaN в задержке по прибытию.",
   "id": "33a6f56ef6d02d0c"
  },
  {
   "metadata": {
    "ExecuteTime": {
     "end_time": "2024-06-01T15:21:52.461404Z",
     "start_time": "2024-06-01T15:21:52.445038Z"
    }
   },
   "cell_type": "code",
   "source": [
    "filtered_dep = df_2019[df_2019['DIVERTED']==1]\n",
    "count = filtered_dep[filtered_dep['ARR_DEL15'].isna()].shape[0]\n",
    "total = filtered_dep.shape[0]\n",
    "res = (count/total) * 100 \n",
    "res"
   ],
   "id": "d6b67ba2cd502a4b",
   "outputs": [
    {
     "data": {
      "text/plain": [
       "100.0"
      ]
     },
     "execution_count": 18,
     "metadata": {},
     "output_type": "execute_result"
    }
   ],
   "execution_count": 18
  },
  {
   "metadata": {},
   "cell_type": "markdown",
   "source": "Отсюда видно, что в 100% случаев при изменении пункта назначения рейса у нас NaN в задержке по прибытию.",
   "id": "1a5038ed23c45a43"
  },
  {
   "metadata": {},
   "cell_type": "markdown",
   "source": "Поэтому можем NaN-ы заменить на 1, т.к. практически всегда это означает то, что рейс не прибудет вовсе",
   "id": "b8bf58ef94eca75"
  },
  {
   "metadata": {},
   "cell_type": "markdown",
   "source": "",
   "id": "42d34dd59e4db988"
  },
  {
   "metadata": {
    "ExecuteTime": {
     "end_time": "2024-06-01T15:21:54.061104Z",
     "start_time": "2024-06-01T15:21:52.464100Z"
    }
   },
   "cell_type": "code",
   "source": [
    "df_2019['DEP_DEL15'] = df_2019['DEP_DEL15'].apply(lambda x: 1.0 if pd.isna(x) else x)\n",
    "df_2020['DEP_DEL15'] = df_2020['DEP_DEL15'].apply(lambda x: 1.0 if pd.isna(x) else x)"
   ],
   "id": "67a64c4911fe8800",
   "outputs": [],
   "execution_count": 19
  },
  {
   "metadata": {
    "ExecuteTime": {
     "end_time": "2024-06-01T15:21:55.142062Z",
     "start_time": "2024-06-01T15:21:54.064555Z"
    }
   },
   "cell_type": "code",
   "source": [
    "df_2019['ARR_DEL15'] = df_2019['ARR_DEL15'].apply(lambda x: 1.0 if pd.isna(x) else x)\n",
    "df_2020['ARR_DEL15'] = df_2020['ARR_DEL15'].apply(lambda x: 1.0 if pd.isna(x) else x)"
   ],
   "id": "e1debd020cb97aee",
   "outputs": [],
   "execution_count": 20
  },
  {
   "metadata": {
    "ExecuteTime": {
     "end_time": "2024-06-01T15:21:55.401093Z",
     "start_time": "2024-06-01T15:21:55.144787Z"
    }
   },
   "cell_type": "code",
   "source": [
    "df_2019 = df_2019.dropna(subset = 'TAIL_NUM')\n",
    "df_2020 = df_2020.dropna(subset = 'TAIL_NUM')"
   ],
   "id": "78cb40917337d50b",
   "outputs": [],
   "execution_count": 21
  },
  {
   "metadata": {
    "ExecuteTime": {
     "end_time": "2024-06-01T15:22:12.241737Z",
     "start_time": "2024-06-01T15:21:55.415710Z"
    }
   },
   "cell_type": "code",
   "source": "sns.boxplot(data = df_2019)",
   "id": "f93fc690d2551960",
   "outputs": [
    {
     "data": {
      "text/plain": [
       "<AxesSubplot:>"
      ]
     },
     "execution_count": 22,
     "metadata": {},
     "output_type": "execute_result"
    },
    {
     "data": {
      "text/plain": [
       "<Figure size 640x480 with 1 Axes>"
      ],
      "image/png": "[encoded data removed]"
     },
     "metadata": {},
     "output_type": "display_data"
    }
   ],
   "execution_count": 22
  },
  {
   "metadata": {
    "ExecuteTime": {
     "end_time": "2024-06-01T15:22:12.358054Z",
     "start_time": "2024-06-01T15:22:12.245386Z"
    }
   },
   "cell_type": "code",
   "source": [
    "Q1 = df_2019['DISTANCE'].quantile(0.25)\n",
    "Q3 = df_2019['DISTANCE'].quantile(0.75)\n",
    "IQR = Q3 - Q1\n",
    "\n",
    "lower_bound = Q1 - 1.5 * IQR\n",
    "upper_bound = Q3 + 1.5 * IQR\n",
    "\n",
    "filtered_data = df_2019[(df_2019['DISTANCE'] >= lower_bound) & (df_2019['DISTANCE'] <= upper_bound)]\n",
    "\n",
    "median_distance_after_removal = np.median(filtered_data['DISTANCE'])\n",
    "\n",
    "df_2019.loc[df_2019['DISTANCE'] < lower_bound, 'DISTANCE'] = median_distance_after_removal\n",
    "df_2019.loc[df_2019['DISTANCE'] > upper_bound, 'DISTANCE'] = median_distance_after_removal"
   ],
   "id": "d27f5a4336499378",
   "outputs": [],
   "execution_count": 23
  },
  {
   "metadata": {
    "ExecuteTime": {
     "end_time": "2024-06-01T15:22:13.987550Z",
     "start_time": "2024-06-01T15:22:12.363778Z"
    }
   },
   "cell_type": "code",
   "source": "sns.boxplot(df_2019, x='DISTANCE')",
   "id": "b902989323da5f1c",
   "outputs": [
    {
     "data": {
      "text/plain": [
       "<AxesSubplot:xlabel='DISTANCE'>"
      ]
     },
     "execution_count": 24,
     "metadata": {},
     "output_type": "execute_result"
    },
    {
     "data": {
      "text/plain": [
       "<Figure size 640x480 with 1 Axes>"
      ],
      "image/png": "[encoded data removed]"
     },
     "metadata": {},
     "output_type": "display_data"
    }
   ],
   "execution_count": 24
  },
  {
   "metadata": {
    "ExecuteTime": {
     "end_time": "2024-06-01T15:22:14.679518Z",
     "start_time": "2024-06-01T15:22:13.990670Z"
    }
   },
   "cell_type": "code",
   "source": [
    "num_df = df_2019.select_dtypes(exclude=['object'])\n",
    "sns.heatmap(num_df.corr())"
   ],
   "id": "84fd821e29f9d7e",
   "outputs": [
    {
     "data": {
      "text/plain": [
       "<AxesSubplot:>"
      ]
     },
     "execution_count": 25,
     "metadata": {},
     "output_type": "execute_result"
    },
    {
     "data": {
      "text/plain": [
       "<Figure size 640x480 with 2 Axes>"
      ],
      "image/png": "[encoded data removed]"
     },
     "metadata": {},
     "output_type": "display_data"
    }
   ],
   "execution_count": 25
  },
  {
   "metadata": {
    "ExecuteTime": {
     "end_time": "2024-06-01T15:22:14.691393Z",
     "start_time": "2024-06-01T15:22:14.682523Z"
    }
   },
   "cell_type": "code",
   "source": [
    "def get_almost_constant_columns(df):\n",
    "    cols = []\n",
    "    for i in df:\n",
    "        counts = df[i].value_counts()\n",
    "        most_popular_value_count = counts.iloc[0]\n",
    "        if (most_popular_value_count / len(df)) * 100 > 96:\n",
    "            cols.append(i)\n",
    "    return cols"
   ],
   "id": "61fca51d023e1921",
   "outputs": [],
   "execution_count": 26
  },
  {
   "metadata": {
    "ExecuteTime": {
     "end_time": "2024-06-01T15:22:15.135320Z",
     "start_time": "2024-06-01T15:22:14.695638Z"
    }
   },
   "cell_type": "code",
   "source": [
    "cat_df = df_2019.select_dtypes(include=['object'])\n",
    "overfit_cat = get_almost_constant_columns(cat_df)\n",
    "df_2019 = df_2019.drop(overfit_cat, axis=1)\n",
    "overfit_cat"
   ],
   "id": "10351c21000f0da1",
   "outputs": [
    {
     "data": {
      "text/plain": [
       "[]"
      ]
     },
     "execution_count": 27,
     "metadata": {},
     "output_type": "execute_result"
    }
   ],
   "execution_count": 27
  },
  {
   "metadata": {
    "ExecuteTime": {
     "end_time": "2024-06-01T15:22:15.318580Z",
     "start_time": "2024-06-01T15:22:15.137873Z"
    }
   },
   "cell_type": "code",
   "source": [
    "num_df = df_2019.select_dtypes(exclude=['object'])\n",
    "overfit_num = get_almost_constant_columns(num_df)\n",
    "df_2019 = df_2019.drop(overfit_num, axis=1)\n",
    "df_2020 = df_2020.drop(overfit_num, axis=1)\n",
    "overfit_num"
   ],
   "id": "667464423aef6c64",
   "outputs": [
    {
     "data": {
      "text/plain": [
       "['CANCELLED', 'DIVERTED']"
      ]
     },
     "execution_count": 28,
     "metadata": {},
     "output_type": "execute_result"
    }
   ],
   "execution_count": 28
  },
  {
   "metadata": {},
   "cell_type": "markdown",
   "source": "Отсюда видим, что CANCELLED и DIVERTED почти константны, а также уже не имеют полезных данных, так как мы преобразовали в соответствии с ними столбцы DEP_DEL15 и ARR_DEL15",
   "id": "2d446589ef7ef979"
  },
  {
   "metadata": {
    "ExecuteTime": {
     "end_time": "2024-06-01T15:22:15.693215Z",
     "start_time": "2024-06-01T15:22:15.321211Z"
    }
   },
   "cell_type": "code",
   "source": "df_2019.duplicated().sum()",
   "id": "3547b6dd6c3a4ee9",
   "outputs": [
    {
     "data": {
      "text/plain": [
       "2"
      ]
     },
     "execution_count": 29,
     "metadata": {},
     "output_type": "execute_result"
    }
   ],
   "execution_count": 29
  },
  {
   "metadata": {
    "ExecuteTime": {
     "end_time": "2024-06-01T15:22:16.108833Z",
     "start_time": "2024-06-01T15:22:15.696234Z"
    }
   },
   "cell_type": "code",
   "source": "df_2019.drop_duplicates(inplace=True)",
   "id": "d4b9814dd143ded4",
   "outputs": [],
   "execution_count": 30
  },
  {
   "metadata": {
    "ExecuteTime": {
     "end_time": "2024-06-01T15:22:16.442126Z",
     "start_time": "2024-06-01T15:22:16.113128Z"
    }
   },
   "cell_type": "code",
   "source": "df_2020.duplicated().sum()",
   "id": "402931b88ae76fe2",
   "outputs": [
    {
     "data": {
      "text/plain": [
       "1"
      ]
     },
     "execution_count": 31,
     "metadata": {},
     "output_type": "execute_result"
    }
   ],
   "execution_count": 31
  },
  {
   "metadata": {
    "ExecuteTime": {
     "end_time": "2024-06-01T15:22:16.880579Z",
     "start_time": "2024-06-01T15:22:16.445303Z"
    }
   },
   "cell_type": "code",
   "source": "df_2020.drop_duplicates(inplace=True)",
   "id": "42d1923e48dba6b",
   "outputs": [],
   "execution_count": 32
  },
  {
   "metadata": {
    "ExecuteTime": {
     "end_time": "2024-06-01T15:22:16.908527Z",
     "start_time": "2024-06-01T15:22:16.883885Z"
    }
   },
   "cell_type": "code",
   "source": "df_2019.head()",
   "id": "81e993b32c2a7415",
   "outputs": [
    {
     "data": {
      "text/plain": [
       "   DAY_OF_MONTH  DAY_OF_WEEK OP_CARRIER TAIL_NUM ORIGIN DEST  DEP_DEL15  \\\n",
       "0             1            2         9E   N8688C    GNV  ATL        0.0   \n",
       "1             1            2         9E   N348PQ    MSP  CVG        0.0   \n",
       "2             1            2         9E   N8896A    DTW  CVG        0.0   \n",
       "3             1            2         9E   N8886A    TLH  ATL        0.0   \n",
       "4             1            2         9E   N8974C    ATL  FSM        0.0   \n",
       "\n",
       "  DEP_TIME_BLK  ARR_DEL15  DISTANCE  \n",
       "0    0600-0659        0.0     300.0  \n",
       "1    1400-1459        0.0     596.0  \n",
       "2    1200-1259        0.0     229.0  \n",
       "3    1500-1559        0.0     223.0  \n",
       "4    1900-1959        0.0     579.0  "
      ],
      "text/html": [
       "<div>\n",
       "<style scoped>\n",
       "    .dataframe tbody tr th:only-of-type {\n",
       "        vertical-align: middle;\n",
       "    }\n",
       "\n",
       "    .dataframe tbody tr th {\n",
       "        vertical-align: top;\n",
       "    }\n",
       "\n",
       "    .dataframe thead th {\n",
       "        text-align: right;\n",
       "    }\n",
       "</style>\n",
       "<table border=\"1\" class=\"dataframe\">\n",
       "  <thead>\n",
       "    <tr style=\"text-align: right;\">\n",
       "      <th></th>\n",
       "      <th>DAY_OF_MONTH</th>\n",
       "      <th>DAY_OF_WEEK</th>\n",
       "      <th>OP_CARRIER</th>\n",
       "      <th>TAIL_NUM</th>\n",
       "      <th>ORIGIN</th>\n",
       "      <th>DEST</th>\n",
       "      <th>DEP_DEL15</th>\n",
       "      <th>DEP_TIME_BLK</th>\n",
       "      <th>ARR_DEL15</th>\n",
       "      <th>DISTANCE</th>\n",
       "    </tr>\n",
       "  </thead>\n",
       "  <tbody>\n",
       "    <tr>\n",
       "      <th>0</th>\n",
       "      <td>1</td>\n",
       "      <td>2</td>\n",
       "      <td>9E</td>\n",
       "      <td>N8688C</td>\n",
       "      <td>GNV</td>\n",
       "      <td>ATL</td>\n",
       "      <td>0.0</td>\n",
       "      <td>0600-0659</td>\n",
       "      <td>0.0</td>\n",
       "      <td>300.0</td>\n",
       "    </tr>\n",
       "    <tr>\n",
       "      <th>1</th>\n",
       "      <td>1</td>\n",
       "      <td>2</td>\n",
       "      <td>9E</td>\n",
       "      <td>N348PQ</td>\n",
       "      <td>MSP</td>\n",
       "      <td>CVG</td>\n",
       "      <td>0.0</td>\n",
       "      <td>1400-1459</td>\n",
       "      <td>0.0</td>\n",
       "      <td>596.0</td>\n",
       "    </tr>\n",
       "    <tr>\n",
       "      <th>2</th>\n",
       "      <td>1</td>\n",
       "      <td>2</td>\n",
       "      <td>9E</td>\n",
       "      <td>N8896A</td>\n",
       "      <td>DTW</td>\n",
       "      <td>CVG</td>\n",
       "      <td>0.0</td>\n",
       "      <td>1200-1259</td>\n",
       "      <td>0.0</td>\n",
       "      <td>229.0</td>\n",
       "    </tr>\n",
       "    <tr>\n",
       "      <th>3</th>\n",
       "      <td>1</td>\n",
       "      <td>2</td>\n",
       "      <td>9E</td>\n",
       "      <td>N8886A</td>\n",
       "      <td>TLH</td>\n",
       "      <td>ATL</td>\n",
       "      <td>0.0</td>\n",
       "      <td>1500-1559</td>\n",
       "      <td>0.0</td>\n",
       "      <td>223.0</td>\n",
       "    </tr>\n",
       "    <tr>\n",
       "      <th>4</th>\n",
       "      <td>1</td>\n",
       "      <td>2</td>\n",
       "      <td>9E</td>\n",
       "      <td>N8974C</td>\n",
       "      <td>ATL</td>\n",
       "      <td>FSM</td>\n",
       "      <td>0.0</td>\n",
       "      <td>1900-1959</td>\n",
       "      <td>0.0</td>\n",
       "      <td>579.0</td>\n",
       "    </tr>\n",
       "  </tbody>\n",
       "</table>\n",
       "</div>"
      ]
     },
     "execution_count": 33,
     "metadata": {},
     "output_type": "execute_result"
    }
   ],
   "execution_count": 33
  },
  {
   "metadata": {
    "ExecuteTime": {
     "end_time": "2024-06-01T15:22:17.629187Z",
     "start_time": "2024-06-01T15:22:16.912068Z"
    }
   },
   "cell_type": "code",
   "source": [
    "pd.DataFrame({'unique':df_2019.nunique(),\n",
    "              'missing': df_2019.isna().sum()/df_2019.count(),\n",
    "              'type':df_2019.dtypes})"
   ],
   "id": "56b96e8cc826c4c0",
   "outputs": [
    {
     "data": {
      "text/plain": [
       "              unique  missing     type\n",
       "DAY_OF_MONTH      31      0.0    int64\n",
       "DAY_OF_WEEK        7      0.0    int64\n",
       "OP_CARRIER        17      0.0   object\n",
       "TAIL_NUM        5446      0.0   object\n",
       "ORIGIN           346      0.0   object\n",
       "DEST             346      0.0   object\n",
       "DEP_DEL15          2      0.0  float64\n",
       "DEP_TIME_BLK      19      0.0   object\n",
       "ARR_DEL15          2      0.0  float64\n",
       "DISTANCE        1275      0.0  float64"
      ],
      "text/html": [
       "<div>\n",
       "<style scoped>\n",
       "    .dataframe tbody tr th:only-of-type {\n",
       "        vertical-align: middle;\n",
       "    }\n",
       "\n",
       "    .dataframe tbody tr th {\n",
       "        vertical-align: top;\n",
       "    }\n",
       "\n",
       "    .dataframe thead th {\n",
       "        text-align: right;\n",
       "    }\n",
       "</style>\n",
       "<table border=\"1\" class=\"dataframe\">\n",
       "  <thead>\n",
       "    <tr style=\"text-align: right;\">\n",
       "      <th></th>\n",
       "      <th>unique</th>\n",
       "      <th>missing</th>\n",
       "      <th>type</th>\n",
       "    </tr>\n",
       "  </thead>\n",
       "  <tbody>\n",
       "    <tr>\n",
       "      <th>DAY_OF_MONTH</th>\n",
       "      <td>31</td>\n",
       "      <td>0.0</td>\n",
       "      <td>int64</td>\n",
       "    </tr>\n",
       "    <tr>\n",
       "      <th>DAY_OF_WEEK</th>\n",
       "      <td>7</td>\n",
       "      <td>0.0</td>\n",
       "      <td>int64</td>\n",
       "    </tr>\n",
       "    <tr>\n",
       "      <th>OP_CARRIER</th>\n",
       "      <td>17</td>\n",
       "      <td>0.0</td>\n",
       "      <td>object</td>\n",
       "    </tr>\n",
       "    <tr>\n",
       "      <th>TAIL_NUM</th>\n",
       "      <td>5446</td>\n",
       "      <td>0.0</td>\n",
       "      <td>object</td>\n",
       "    </tr>\n",
       "    <tr>\n",
       "      <th>ORIGIN</th>\n",
       "      <td>346</td>\n",
       "      <td>0.0</td>\n",
       "      <td>object</td>\n",
       "    </tr>\n",
       "    <tr>\n",
       "      <th>DEST</th>\n",
       "      <td>346</td>\n",
       "      <td>0.0</td>\n",
       "      <td>object</td>\n",
       "    </tr>\n",
       "    <tr>\n",
       "      <th>DEP_DEL15</th>\n",
       "      <td>2</td>\n",
       "      <td>0.0</td>\n",
       "      <td>float64</td>\n",
       "    </tr>\n",
       "    <tr>\n",
       "      <th>DEP_TIME_BLK</th>\n",
       "      <td>19</td>\n",
       "      <td>0.0</td>\n",
       "      <td>object</td>\n",
       "    </tr>\n",
       "    <tr>\n",
       "      <th>ARR_DEL15</th>\n",
       "      <td>2</td>\n",
       "      <td>0.0</td>\n",
       "      <td>float64</td>\n",
       "    </tr>\n",
       "    <tr>\n",
       "      <th>DISTANCE</th>\n",
       "      <td>1275</td>\n",
       "      <td>0.0</td>\n",
       "      <td>float64</td>\n",
       "    </tr>\n",
       "  </tbody>\n",
       "</table>\n",
       "</div>"
      ]
     },
     "execution_count": 34,
     "metadata": {},
     "output_type": "execute_result"
    }
   ],
   "execution_count": 34
  },
  {
   "metadata": {
    "ExecuteTime": {
     "end_time": "2024-06-01T15:22:18.373368Z",
     "start_time": "2024-06-01T15:22:17.632625Z"
    }
   },
   "cell_type": "code",
   "source": [
    "pd.DataFrame({'unique':df_2020.nunique(),\n",
    "              'missing': df_2020.isna().sum()/df_2020.count(),\n",
    "              'type':df_2020.dtypes})"
   ],
   "id": "1c435101044be74c",
   "outputs": [
    {
     "data": {
      "text/plain": [
       "              unique  missing     type\n",
       "DAY_OF_MONTH      31      0.0    int64\n",
       "DAY_OF_WEEK        7      0.0    int64\n",
       "OP_CARRIER        17      0.0   object\n",
       "TAIL_NUM        5444      0.0   object\n",
       "ORIGIN           351      0.0   object\n",
       "DEST             350      0.0   object\n",
       "DEP_DEL15          2      0.0  float64\n",
       "DEP_TIME_BLK      19      0.0   object\n",
       "ARR_DEL15          2      0.0  float64\n",
       "DISTANCE        1471      0.0  float64"
      ],
      "text/html": [
       "<div>\n",
       "<style scoped>\n",
       "    .dataframe tbody tr th:only-of-type {\n",
       "        vertical-align: middle;\n",
       "    }\n",
       "\n",
       "    .dataframe tbody tr th {\n",
       "        vertical-align: top;\n",
       "    }\n",
       "\n",
       "    .dataframe thead th {\n",
       "        text-align: right;\n",
       "    }\n",
       "</style>\n",
       "<table border=\"1\" class=\"dataframe\">\n",
       "  <thead>\n",
       "    <tr style=\"text-align: right;\">\n",
       "      <th></th>\n",
       "      <th>unique</th>\n",
       "      <th>missing</th>\n",
       "      <th>type</th>\n",
       "    </tr>\n",
       "  </thead>\n",
       "  <tbody>\n",
       "    <tr>\n",
       "      <th>DAY_OF_MONTH</th>\n",
       "      <td>31</td>\n",
       "      <td>0.0</td>\n",
       "      <td>int64</td>\n",
       "    </tr>\n",
       "    <tr>\n",
       "      <th>DAY_OF_WEEK</th>\n",
       "      <td>7</td>\n",
       "      <td>0.0</td>\n",
       "      <td>int64</td>\n",
       "    </tr>\n",
       "    <tr>\n",
       "      <th>OP_CARRIER</th>\n",
       "      <td>17</td>\n",
       "      <td>0.0</td>\n",
       "      <td>object</td>\n",
       "    </tr>\n",
       "    <tr>\n",
       "      <th>TAIL_NUM</th>\n",
       "      <td>5444</td>\n",
       "      <td>0.0</td>\n",
       "      <td>object</td>\n",
       "    </tr>\n",
       "    <tr>\n",
       "      <th>ORIGIN</th>\n",
       "      <td>351</td>\n",
       "      <td>0.0</td>\n",
       "      <td>object</td>\n",
       "    </tr>\n",
       "    <tr>\n",
       "      <th>DEST</th>\n",
       "      <td>350</td>\n",
       "      <td>0.0</td>\n",
       "      <td>object</td>\n",
       "    </tr>\n",
       "    <tr>\n",
       "      <th>DEP_DEL15</th>\n",
       "      <td>2</td>\n",
       "      <td>0.0</td>\n",
       "      <td>float64</td>\n",
       "    </tr>\n",
       "    <tr>\n",
       "      <th>DEP_TIME_BLK</th>\n",
       "      <td>19</td>\n",
       "      <td>0.0</td>\n",
       "      <td>object</td>\n",
       "    </tr>\n",
       "    <tr>\n",
       "      <th>ARR_DEL15</th>\n",
       "      <td>2</td>\n",
       "      <td>0.0</td>\n",
       "      <td>float64</td>\n",
       "    </tr>\n",
       "    <tr>\n",
       "      <th>DISTANCE</th>\n",
       "      <td>1471</td>\n",
       "      <td>0.0</td>\n",
       "      <td>float64</td>\n",
       "    </tr>\n",
       "  </tbody>\n",
       "</table>\n",
       "</div>"
      ]
     },
     "execution_count": 35,
     "metadata": {},
     "output_type": "execute_result"
    }
   ],
   "execution_count": 35
  },
  {
   "metadata": {
    "ExecuteTime": {
     "end_time": "2024-06-01T15:22:19.149816Z",
     "start_time": "2024-06-01T15:22:18.376644Z"
    }
   },
   "cell_type": "code",
   "source": [
    "from sklearn.compose import ColumnTransformer\n",
    "from sklearn.pipeline import Pipeline\n",
    "from sklearn.preprocessing import OneHotEncoder, MinMaxScaler\n",
    "from sklearn.model_selection import RandomizedSearchCV\n",
    "from sklearn.tree import DecisionTreeClassifier\n",
    "from sklearn.linear_model import LogisticRegression\n",
    "from xgboost import XGBClassifier  \n",
    "from sklearn.ensemble import AdaBoostClassifier\n",
    "from sklearn.metrics import accuracy_score, classification_report, confusion_matrix"
   ],
   "id": "288f1a01152a03c8",
   "outputs": [],
   "execution_count": 36
  },
  {
   "metadata": {
    "ExecuteTime": {
     "end_time": "2024-06-01T15:22:19.168106Z",
     "start_time": "2024-06-01T15:22:19.152968Z"
    }
   },
   "cell_type": "code",
   "source": [
    "def bin_data(column_name:str, num_bins:int, df):\n",
    "    num_df = df.groupby(column_name)['ARR_DEL15'].sum().reset_index()\n",
    "    num_df['changed'] = pd.qcut(num_df['ARR_DEL15'], num_bins, labels=False, duplicates='drop')\n",
    "    tail_num_mapping = dict(zip(num_df[column_name], num_df['changed']))\n",
    "    df[column_name] = df[column_name].map(tail_num_mapping)"
   ],
   "id": "17cd5b1dc6d58e3d",
   "outputs": [],
   "execution_count": 37
  },
  {
   "metadata": {
    "ExecuteTime": {
     "end_time": "2024-06-01T15:43:03.880900Z",
     "start_time": "2024-06-01T15:43:03.616280Z"
    }
   },
   "cell_type": "code",
   "source": [
    "bin_data('ORIGIN', 346, df_2019)\n",
    "bin_data('DEST', 346, df_2019)\n",
    "\n",
    "bin_data('ORIGIN', 351, df_2020)\n",
    "bin_data('DEST', 350, df_2020)\n"
   ],
   "id": "175fa4cb4580d304",
   "outputs": [],
   "execution_count": 60
  },
  {
   "metadata": {
    "ExecuteTime": {
     "end_time": "2024-06-01T15:43:04.907894Z",
     "start_time": "2024-06-01T15:43:04.876055Z"
    }
   },
   "cell_type": "code",
   "source": "df_2019.head()",
   "id": "6475243259840455",
   "outputs": [
    {
     "data": {
      "text/plain": [
       "   DAY_OF_MONTH  DAY_OF_WEEK OP_CARRIER  TAIL_NUM  ORIGIN  DEST  DEP_DEL15  \\\n",
       "0             1            2         9E        47      34   323        0.0   \n",
       "1             1            2         9E        57     300   261        0.0   \n",
       "2             1            2         9E        33     312   261        0.0   \n",
       "3             1            2         9E        33      63   323        0.0   \n",
       "4             1            2         9E        61     326    67        0.0   \n",
       "\n",
       "  DEP_TIME_BLK  ARR_DEL15  DISTANCE  \n",
       "0    0600-0659        0.0     300.0  \n",
       "1    1400-1459        0.0     596.0  \n",
       "2    1200-1259        0.0     229.0  \n",
       "3    1500-1559        0.0     223.0  \n",
       "4    1900-1959        0.0     579.0  "
      ],
      "text/html": [
       "<div>\n",
       "<style scoped>\n",
       "    .dataframe tbody tr th:only-of-type {\n",
       "        vertical-align: middle;\n",
       "    }\n",
       "\n",
       "    .dataframe tbody tr th {\n",
       "        vertical-align: top;\n",
       "    }\n",
       "\n",
       "    .dataframe thead th {\n",
       "        text-align: right;\n",
       "    }\n",
       "</style>\n",
       "<table border=\"1\" class=\"dataframe\">\n",
       "  <thead>\n",
       "    <tr style=\"text-align: right;\">\n",
       "      <th></th>\n",
       "      <th>DAY_OF_MONTH</th>\n",
       "      <th>DAY_OF_WEEK</th>\n",
       "      <th>OP_CARRIER</th>\n",
       "      <th>TAIL_NUM</th>\n",
       "      <th>ORIGIN</th>\n",
       "      <th>DEST</th>\n",
       "      <th>DEP_DEL15</th>\n",
       "      <th>DEP_TIME_BLK</th>\n",
       "      <th>ARR_DEL15</th>\n",
       "      <th>DISTANCE</th>\n",
       "    </tr>\n",
       "  </thead>\n",
       "  <tbody>\n",
       "    <tr>\n",
       "      <th>0</th>\n",
       "      <td>1</td>\n",
       "      <td>2</td>\n",
       "      <td>9E</td>\n",
       "      <td>47</td>\n",
       "      <td>34</td>\n",
       "      <td>323</td>\n",
       "      <td>0.0</td>\n",
       "      <td>0600-0659</td>\n",
       "      <td>0.0</td>\n",
       "      <td>300.0</td>\n",
       "    </tr>\n",
       "    <tr>\n",
       "      <th>1</th>\n",
       "      <td>1</td>\n",
       "      <td>2</td>\n",
       "      <td>9E</td>\n",
       "      <td>57</td>\n",
       "      <td>300</td>\n",
       "      <td>261</td>\n",
       "      <td>0.0</td>\n",
       "      <td>1400-1459</td>\n",
       "      <td>0.0</td>\n",
       "      <td>596.0</td>\n",
       "    </tr>\n",
       "    <tr>\n",
       "      <th>2</th>\n",
       "      <td>1</td>\n",
       "      <td>2</td>\n",
       "      <td>9E</td>\n",
       "      <td>33</td>\n",
       "      <td>312</td>\n",
       "      <td>261</td>\n",
       "      <td>0.0</td>\n",
       "      <td>1200-1259</td>\n",
       "      <td>0.0</td>\n",
       "      <td>229.0</td>\n",
       "    </tr>\n",
       "    <tr>\n",
       "      <th>3</th>\n",
       "      <td>1</td>\n",
       "      <td>2</td>\n",
       "      <td>9E</td>\n",
       "      <td>33</td>\n",
       "      <td>63</td>\n",
       "      <td>323</td>\n",
       "      <td>0.0</td>\n",
       "      <td>1500-1559</td>\n",
       "      <td>0.0</td>\n",
       "      <td>223.0</td>\n",
       "    </tr>\n",
       "    <tr>\n",
       "      <th>4</th>\n",
       "      <td>1</td>\n",
       "      <td>2</td>\n",
       "      <td>9E</td>\n",
       "      <td>61</td>\n",
       "      <td>326</td>\n",
       "      <td>67</td>\n",
       "      <td>0.0</td>\n",
       "      <td>1900-1959</td>\n",
       "      <td>0.0</td>\n",
       "      <td>579.0</td>\n",
       "    </tr>\n",
       "  </tbody>\n",
       "</table>\n",
       "</div>"
      ]
     },
     "execution_count": 61,
     "metadata": {},
     "output_type": "execute_result"
    }
   ],
   "execution_count": 61
  },
  {
   "metadata": {},
   "cell_type": "markdown",
   "source": "Дискретизация категориальных данных по отношению к целевой переменной. Т.е. чем чаще встречается наш признак, тем выше у него будет порядковый номер. ",
   "id": "784dab524fd002c0"
  },
  {
   "metadata": {
    "ExecuteTime": {
     "end_time": "2024-06-01T15:43:08.195022Z",
     "start_time": "2024-06-01T15:43:08.190428Z"
    }
   },
   "cell_type": "code",
   "source": [
    "categorical_features_onehot = ['OP_CARRIER', 'DAY_OF_WEEK', 'DEP_TIME_BLK']\n",
    "numerical_features = ['DAY_OF_MONTH', 'DISTANCE', 'DEST', 'ORIGIN']"
   ],
   "id": "3de2e4296430c137",
   "outputs": [],
   "execution_count": 62
  },
  {
   "metadata": {
    "ExecuteTime": {
     "end_time": "2024-06-01T15:43:09.931351Z",
     "start_time": "2024-06-01T15:43:09.633627Z"
    }
   },
   "cell_type": "code",
   "source": [
    "onehot_transformer = Pipeline(steps=[\n",
    "    ('onehot', OneHotEncoder(handle_unknown='ignore'))\n",
    "])\n",
    "\n",
    "numerical_transformer = Pipeline(steps=[\n",
    "    ('scaler', MinMaxScaler())\n",
    "])\n",
    "\n",
    "\n",
    "models = [\n",
    "    ('ada', AdaBoostClassifier(algorithm='SAMME')),\n",
    "    ('xgb', XGBClassifier()),\n",
    "    ('log regression', LogisticRegression()),\n",
    "    ('decision tree', DecisionTreeClassifier())\n",
    "]\n",
    "\n",
    "preprocessor = ColumnTransformer(\n",
    "    transformers=[\n",
    "        ('onehot', onehot_transformer, categorical_features_onehot),\n",
    "        ('num', numerical_transformer, numerical_features)\n",
    "    ])\n",
    "\n",
    "X_train = df_2019[categorical_features_onehot + numerical_features]\n",
    "y_train = df_2019['ARR_DEL15']\n",
    "\n",
    "X_test = df_2020[categorical_features_onehot + numerical_features]\n",
    "y_test = df_2020['ARR_DEL15']"
   ],
   "id": "406239ba927447b4",
   "outputs": [],
   "execution_count": 63
  },
  {
   "metadata": {
    "ExecuteTime": {
     "end_time": "2024-06-01T15:49:59.383067Z",
     "start_time": "2024-06-01T15:43:10.806335Z"
    }
   },
   "cell_type": "code",
   "source": [
    "for name, model in models:\n",
    "    pipeline = Pipeline(\n",
    "    steps=[\n",
    "        ('preproccessor', preprocessor),\n",
    "        (name, model)\n",
    "    ])\n",
    "    \n",
    "    print(name)\n",
    "    pipeline.fit(X_train, y_train)\n",
    "    y_pred = pipeline.predict(X_test)\n",
    "    \n",
    "    print(f\"Точность на обучающей выборке: {accuracy_score(y_train, pipeline.predict(X_train))}\\n\")\n",
    "    print(f\"Точность на тестовой выборке: {accuracy_score(y_pred,y_test)}\\n\\n\")"
   ],
   "id": "3fc6af462e2b8774",
   "outputs": [
    {
     "name": "stdout",
     "output_type": "stream",
     "text": [
      "ada\n",
      "Точность на обучающей выборке: 0.7929107044578977\n",
      "\n",
      "Точность на тестовой выборке: 0.852184219158753\n",
      "\n",
      "\n",
      "xgb\n",
      "Точность на обучающей выборке: 0.8303040726472207\n",
      "\n",
      "Точность на тестовой выборке: 0.8036320957657419\n",
      "\n",
      "\n",
      "log regression\n",
      "Точность на обучающей выборке: 0.7926372454595487\n",
      "\n",
      "Точность на тестовой выборке: 0.851936958395904\n",
      "\n",
      "\n",
      "decision tree\n",
      "Точность на обучающей выборке: 0.9987307374793616\n",
      "\n",
      "Точность на тестовой выборке: 0.6896976330551375\n",
      "\n",
      "\n"
     ]
    }
   ],
   "execution_count": 64
  },
  {
   "metadata": {},
   "cell_type": "markdown",
   "source": "Исходя из точности и метрик была выбрана модель XGBClassifier. Далее следует оптимизация гиперпараметров выбранной модели.",
   "id": "3fcf38887970d26a"
  },
  {
   "metadata": {
    "ExecuteTime": {
     "end_time": "2024-06-01T15:50:00.303303Z",
     "start_time": "2024-06-01T15:49:59.386695Z"
    }
   },
   "cell_type": "code",
   "source": [
    "X = df_2019[categorical_features_onehot + numerical_features]\n",
    "y = df_2019['ARR_DEL15']\n",
    "\n",
    "X_train = preprocessor.fit_transform(X, y)\n",
    "y_train = df_2019['ARR_DEL15']"
   ],
   "id": "3e272f82fdaca13b",
   "outputs": [],
   "execution_count": 65
  },
  {
   "metadata": {
    "ExecuteTime": {
     "end_time": "2024-06-01T15:50:20.948821Z",
     "start_time": "2024-06-01T15:50:00.306302Z"
    }
   },
   "cell_type": "code",
   "source": [
    "param_dist = {\n",
    "    'n_estimators': [10, 20, 50, 100, 200],\n",
    "    'max_depth': [3, 4, 5, 6, 7, 10, 15, 20, 30],\n",
    "    'learning_rate': [0.01, 0.05, 0.1, 0.15, 0.2, 0.3],\n",
    "    'min_child_weight': [1, 2, 3, 4, 5],\n",
    "    'subsample': [0.6, 0.7, 0.8, 0.9, 1.0],\n",
    "    'colsample_bytree': [0.6, 0.7, 0.8, 0.9, 1.0],\n",
    "    'gamma': [0, 0.1, 0.2, 0.3, 0.5, 1],\n",
    "    'reg_lambda': [0.01, 0.1, 1, 10, 100],\n",
    "    'reg_alpha': [0, 0.1, 1, 10, 100]\n",
    "}\n",
    "\n",
    "xgb_model = XGBClassifier()\n",
    "\n",
    "random_search = RandomizedSearchCV(\n",
    "    estimator=xgb_model,\n",
    "    param_distributions=param_dist,\n",
    "    n_iter=5,\n",
    "    scoring='accuracy',\n",
    "    cv=3,\n",
    "    verbose=1,\n",
    "    n_jobs=-1,\n",
    "    random_state=42\n",
    ")\n",
    "\n",
    "random_search.fit(X_train, y_train)\n",
    "\n",
    "print(\"Лучшие параметры:\", random_search.best_params_)\n",
    "print(\"Лучшая кросс-валидационная точность:\", random_search.best_score_)\n",
    "\n",
    "best_model = random_search.best_estimator_\n",
    "best_model.fit(X_train, y_train)\n",
    "\n",
    "train_accuracy = best_model.score(X_train, y_train)\n",
    "print(\"Точность на обучающей выборке:\", train_accuracy)"
   ],
   "id": "75b03b02bc21ae3a",
   "outputs": [
    {
     "name": "stdout",
     "output_type": "stream",
     "text": [
      "Fitting 3 folds for each of 5 candidates, totalling 15 fits\n",
      "Лучшие параметры: {'subsample': 0.9, 'reg_lambda': 10, 'reg_alpha': 100, 'n_estimators': 20, 'min_child_weight': 4, 'max_depth': 4, 'learning_rate': 0.01, 'gamma': 0.5, 'colsample_bytree': 0.7}\n",
      "Лучшая кросс-валидационная точность: 0.7924136626294819\n",
      "Точность на обучающей выборке: 0.79241366263071\n"
     ]
    }
   ],
   "execution_count": 66
  },
  {
   "metadata": {
    "ExecuteTime": {
     "end_time": "2024-06-01T15:50:32.674896Z",
     "start_time": "2024-06-01T15:50:21.008438Z"
    }
   },
   "cell_type": "code",
   "source": [
    "X_train = df_2019[categorical_features_onehot + numerical_features]\n",
    "y_train = df_2019['ARR_DEL15']\n",
    "\n",
    "pipeline = Pipeline(\n",
    "steps=[\n",
    "        ('preproccessor', preprocessor),\n",
    "        ('xgb', XGBClassifier())\n",
    "    ])\n",
    "\n",
    "pipeline.fit(X_train, y_train)    \n",
    "y_pred = pipeline.predict(X_test)\n",
    "    \n",
    "print(f\"Точность на обучающей выборке: {accuracy_score(y_train, pipeline.predict(X_train))}\\n\")\n",
    "print(f\"Точность на тестовой выборке: {accuracy_score(y_pred,y_test)}\\n\\n\")\n"
   ],
   "id": "7cf38fb6b03bd996",
   "outputs": [
    {
     "name": "stdout",
     "output_type": "stream",
     "text": [
      "Точность на обучающей выборке: 0.8303040726472207\n",
      "\n",
      "Точность на тестовой выборке: 0.8036320957657419\n",
      "\n",
      "\n"
     ]
    }
   ],
   "execution_count": 67
  },
  {
   "metadata": {
    "ExecuteTime": {
     "end_time": "2024-06-01T15:50:34.354493Z",
     "start_time": "2024-06-01T15:50:32.680059Z"
    }
   },
   "cell_type": "code",
   "source": [
    "test_res = pd.DataFrame(classification_report(y_test, y_pred, output_dict=True))\n",
    "test_res"
   ],
   "id": "f699dd388e39b882",
   "outputs": [
    {
     "data": {
      "text/plain": [
       "                     0.0           1.0  accuracy      macro avg   weighted avg\n",
       "precision       0.855704      0.189180  0.803632       0.522442       0.757190\n",
       "recall          0.925669      0.099996  0.803632       0.512832       0.803632\n",
       "f1-score        0.889312      0.130835  0.803632       0.510074       0.777207\n",
       "support    516983.000000  89664.000000  0.803632  606647.000000  606647.000000"
      ],
      "text/html": [
       "<div>\n",
       "<style scoped>\n",
       "    .dataframe tbody tr th:only-of-type {\n",
       "        vertical-align: middle;\n",
       "    }\n",
       "\n",
       "    .dataframe tbody tr th {\n",
       "        vertical-align: top;\n",
       "    }\n",
       "\n",
       "    .dataframe thead th {\n",
       "        text-align: right;\n",
       "    }\n",
       "</style>\n",
       "<table border=\"1\" class=\"dataframe\">\n",
       "  <thead>\n",
       "    <tr style=\"text-align: right;\">\n",
       "      <th></th>\n",
       "      <th>0.0</th>\n",
       "      <th>1.0</th>\n",
       "      <th>accuracy</th>\n",
       "      <th>macro avg</th>\n",
       "      <th>weighted avg</th>\n",
       "    </tr>\n",
       "  </thead>\n",
       "  <tbody>\n",
       "    <tr>\n",
       "      <th>precision</th>\n",
       "      <td>0.855704</td>\n",
       "      <td>0.189180</td>\n",
       "      <td>0.803632</td>\n",
       "      <td>0.522442</td>\n",
       "      <td>0.757190</td>\n",
       "    </tr>\n",
       "    <tr>\n",
       "      <th>recall</th>\n",
       "      <td>0.925669</td>\n",
       "      <td>0.099996</td>\n",
       "      <td>0.803632</td>\n",
       "      <td>0.512832</td>\n",
       "      <td>0.803632</td>\n",
       "    </tr>\n",
       "    <tr>\n",
       "      <th>f1-score</th>\n",
       "      <td>0.889312</td>\n",
       "      <td>0.130835</td>\n",
       "      <td>0.803632</td>\n",
       "      <td>0.510074</td>\n",
       "      <td>0.777207</td>\n",
       "    </tr>\n",
       "    <tr>\n",
       "      <th>support</th>\n",
       "      <td>516983.000000</td>\n",
       "      <td>89664.000000</td>\n",
       "      <td>0.803632</td>\n",
       "      <td>606647.000000</td>\n",
       "      <td>606647.000000</td>\n",
       "    </tr>\n",
       "  </tbody>\n",
       "</table>\n",
       "</div>"
      ]
     },
     "execution_count": 68,
     "metadata": {},
     "output_type": "execute_result"
    }
   ],
   "execution_count": 68
  },
  {
   "metadata": {
    "ExecuteTime": {
     "end_time": "2024-06-01T15:51:20.290457Z",
     "start_time": "2024-06-01T15:51:20.107653Z"
    }
   },
   "cell_type": "code",
   "source": [
    "importances=pipeline['xgb'].feature_importances_\n",
    "ft_names = pipeline['preproccessor'].get_feature_names_out()\n",
    "feature_importances = pd.DataFrame({\n",
    "    'Feature': ft_names,\n",
    "    'Importance': importances\n",
    "})\n",
    "\n",
    "def mean_importance(df, prefix):\n",
    "    subset = df[df['Feature'].str.startswith(prefix)]\n",
    "    return subset['Importance'].mean()\n",
    "\n",
    "mean_importances = {\n",
    "    'OP_CARRIER': mean_importance(feature_importances, 'onehot__OP_CARRIER'),\n",
    "    'DAY_OF_WEEK': mean_importance(feature_importances, 'onehot__DAY_OF_WEEK'),\n",
    "    'DEP_TIME_BLK': mean_importance(feature_importances, 'onehot__DEP_TIME_BLK'),\n",
    "    'DAY_OF_MONTH': feature_importances[feature_importances['Feature'] == 'num__DAY_OF_MONTH']['Importance'].values[0],\n",
    "    'DISTANCE': feature_importances[feature_importances['Feature'] == 'num__DISTANCE']['Importance'].values[0],\n",
    "    'DEST': feature_importances[feature_importances['Feature'] == 'num__DEST']['Importance'].values[0],\n",
    "    'ORIGIN': feature_importances[feature_importances['Feature'] == 'num__ORIGIN']['Importance'].values[0],\n",
    "}\n",
    "\n",
    "mean_importances_df = pd.DataFrame(list(mean_importances.items()), columns=['Feature Group', 'Mean Importance'])\n",
    "mean_importances_df = mean_importances_df.sort_values(by='Mean Importance', ascending=False)"
   ],
   "id": "2b025dcd7499a9a0",
   "outputs": [],
   "execution_count": 70
  },
  {
   "metadata": {},
   "cell_type": "markdown",
   "source": "В финальной версии не используется признак TAIL_NUM из-за его значимости",
   "id": "3a92ca8018ea0da4"
  },
  {
   "metadata": {
    "ExecuteTime": {
     "end_time": "2024-06-01T15:51:24.751754Z",
     "start_time": "2024-06-01T15:51:23.505594Z"
    }
   },
   "cell_type": "code",
   "source": [
    "plt.figure(figsize=(10, 5))\n",
    "plt.barh(mean_importances_df['Feature Group'], mean_importances_df['Mean Importance'])\n",
    "plt.xlabel('Importance')\n",
    "plt.ylabel('Features')\n",
    "plt.title('Feature Importance')\n",
    "plt.show()"
   ],
   "id": "1f629230ac1e26fe",
   "outputs": [
    {
     "data": {
      "text/plain": [
       "<Figure size 1000x500 with 1 Axes>"
      ],
      "image/png": "[encoded data removed]"
     },
     "metadata": {},
     "output_type": "display_data"
    }
   ],
   "execution_count": 71
  },
  {
   "metadata": {
    "ExecuteTime": {
     "end_time": "2024-06-01T15:51:47.260784Z",
     "start_time": "2024-06-01T15:51:45.509360Z"
    }
   },
   "cell_type": "code",
   "source": [
    "cm = confusion_matrix(y_test, y_pred)\n",
    "\n",
    "sns.heatmap(cm, annot=True, fmt='d', cmap='Blues')\n",
    "plt.yticks()\n",
    "plt.ylabel('True Class')\n",
    "plt.title('Confusion Matrix')\n",
    "plt.show()"
   ],
   "id": "aaacf8945830a2a3",
   "outputs": [
    {
     "data": {
      "text/plain": [
       "<Figure size 640x480 with 2 Axes>"
      ],
      "image/png": "[encoded data removed]"
     },
     "metadata": {},
     "output_type": "display_data"
    }
   ],
   "execution_count": 72
  },
  {
   "metadata": {},
   "cell_type": "markdown",
   "source": "Очень важно отметить, что мы рассматривали предсказание в случае, если нам не известен DEP_DEL15 (задержка при отправке). Реализации с использованием DEP_DEL15 дают значительно более высокие показатели, однако подобное предсказание не является целесообразным. ",
   "id": "f8b4eb7674cf394c"
  }
 ],
 "metadata": {
  "kernelspec": {
   "display_name": "Python 3",
   "language": "python",
   "name": "python3"
  },
  "language_info": {
   "codemirror_mode": {
    "name": "ipython",
    "version": 2
   },
   "file_extension": ".py",
   "mimetype": "text/x-python",
   "name": "python",
   "nbconvert_exporter": "python",
   "pygments_lexer": "ipython2",
   "version": "2.7.6"
  }
 },
 "nbformat": 4,
 "nbformat_minor": 5
}
